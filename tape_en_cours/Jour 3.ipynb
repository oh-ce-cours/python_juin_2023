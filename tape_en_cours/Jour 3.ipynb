{
 "cells": [
  {
   "cell_type": "markdown",
   "id": "c4de511d",
   "metadata": {},
   "source": [
    "# Rappel des 2 premiers jours"
   ]
  },
  {
   "cell_type": "code",
   "execution_count": 4,
   "id": "c2325e1c",
   "metadata": {},
   "outputs": [
    {
     "data": {
      "text/plain": [
       "[1e-07, 1e-06, 1e-05, 0.0001, 0.001, 0.01]"
      ]
     },
     "execution_count": 4,
     "metadata": {},
     "output_type": "execute_result"
    }
   ],
   "source": [
    "currents = [1E-7, 1E-6, 1E-5, 1E-4, 1E-3, 1E-2] \n",
    "currents"
   ]
  },
  {
   "cell_type": "code",
   "execution_count": 18,
   "id": "934fe292",
   "metadata": {},
   "outputs": [
    {
     "name": "stdout",
     "output_type": "stream",
     "text": [
      "6\n"
     ]
    }
   ],
   "source": [
    "voltages = [None for curr in currlist] \n",
    "print(len(voltages))"
   ]
  },
  {
   "cell_type": "code",
   "execution_count": 6,
   "id": "e4a07625",
   "metadata": {},
   "outputs": [
    {
     "data": {
      "text/plain": [
       "[None, None, None, None, None, None]"
      ]
     },
     "execution_count": 6,
     "metadata": {},
     "output_type": "execute_result"
    }
   ],
   "source": [
    "voltages"
   ]
  },
  {
   "cell_type": "code",
   "execution_count": 30,
   "id": "65374867",
   "metadata": {},
   "outputs": [
    {
     "name": "stdout",
     "output_type": "stream",
     "text": [
      "['2e-07', None, None, None, None, None]\n",
      "[2e-07, None, None, None, None, None]\n",
      "---------------\n",
      "[2e-07, '2e-06', None, None, None, None]\n",
      "[2e-07, 2e-06, None, None, None, None]\n",
      "---------------\n",
      "[2e-07, 2e-06, '2e-05', None, None, None]\n",
      "[2e-07, 2e-06, 2e-05, None, None, None]\n",
      "---------------\n",
      "[2e-07, 2e-06, 2e-05, '0.0002', None, None]\n",
      "[2e-07, 2e-06, 2e-05, 0.0002, None, None]\n",
      "---------------\n",
      "[2e-07, 2e-06, 2e-05, 0.0002, '0.002', None]\n",
      "[2e-07, 2e-06, 2e-05, 0.0002, 0.002, None]\n",
      "---------------\n",
      "[2e-07, 2e-06, 2e-05, 0.0002, 0.002, '0.02']\n",
      "[2e-07, 2e-06, 2e-05, 0.0002, 0.002, 0.02]\n",
      "---------------\n"
     ]
    }
   ],
   "source": [
    "voltages = [None for curr in currlist] \n",
    "for index, current in enumerate(currents): \n",
    "    #print(index, current)\n",
    "    voltage = str(current * 2)\n",
    "    voltages[index] = voltage\n",
    "    print(voltages)\n",
    "    voltages[index] = float(voltages[index])\n",
    "    print(voltages)\n",
    "    print(\"---------------\")\n",
    "    \n",
    "    #print(\"forwardv(\"+str(current)+\") && backwardv(\" + str(current) +\")\")\n",
    "    #print(f\"forwardv({current}) && backwardv({current})\")"
   ]
  },
  {
   "cell_type": "code",
   "execution_count": null,
   "id": "e811e31a",
   "metadata": {},
   "outputs": [],
   "source": []
  },
  {
   "cell_type": "markdown",
   "id": "8398be94",
   "metadata": {},
   "source": [
    "``` python \n",
    "import visa\n",
    "rm = visa.ResourceManager()\n",
    "address = \"TCPIP0::192.0.0.1::inst0::INSTR\" #Keithley 2450 SMU\n",
    "rm.list() # liste les instruments branchés sur l'ordinateur / réseau\n",
    "inst = rm.open_resource(address) # on va se connecter à l'instrument\n",
    "\n",
    "#### une fois que l'on est connecté, on peut communiquer avec l'instrument \n",
    "inst.query(\"...\") # on envoie une commande et on lit la réponse (avec un timeout)\n",
    "inst.write(\"...\") # on envoie une commande et on n'attend pas de réponse\n",
    "inst.read() # on demande à lire une réponse \n",
    "```"
   ]
  },
  {
   "cell_type": "code",
   "execution_count": 31,
   "id": "564db32f",
   "metadata": {},
   "outputs": [
    {
     "name": "stdout",
     "output_type": "stream",
     "text": [
      "[2e-07, None, None, None, None, None]\n",
      "---------------\n",
      "[2e-07, 2e-06, None, None, None, None]\n",
      "---------------\n",
      "[2e-07, 2e-06, 2e-05, None, None, None]\n",
      "---------------\n",
      "[2e-07, 2e-06, 2e-05, 0.0002, None, None]\n",
      "---------------\n",
      "[2e-07, 2e-06, 2e-05, 0.0002, 0.002, None]\n",
      "---------------\n",
      "[2e-07, 2e-06, 2e-05, 0.0002, 0.002, 0.02]\n",
      "---------------\n"
     ]
    }
   ],
   "source": [
    "voltages = []\n",
    "for index, current in enumerate(currents): \n",
    "    voltage = str(current * 2)\n",
    "    voltages[index] = float(voltage)\n",
    "    print(voltages)\n",
    "    print(\"---------------\")"
   ]
  },
  {
   "cell_type": "code",
   "execution_count": null,
   "id": "5c2b2a2a",
   "metadata": {},
   "outputs": [],
   "source": []
  }
 ],
 "metadata": {
  "kernelspec": {
   "display_name": "Python 3 (ipykernel)",
   "language": "python",
   "name": "python3"
  },
  "language_info": {
   "codemirror_mode": {
    "name": "ipython",
    "version": 3
   },
   "file_extension": ".py",
   "mimetype": "text/x-python",
   "name": "python",
   "nbconvert_exporter": "python",
   "pygments_lexer": "ipython3",
   "version": "3.11.3"
  }
 },
 "nbformat": 4,
 "nbformat_minor": 5
}
