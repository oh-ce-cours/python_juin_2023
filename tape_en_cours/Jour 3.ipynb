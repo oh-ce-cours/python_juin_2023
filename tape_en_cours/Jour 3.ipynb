{
 "cells": [
  {
   "cell_type": "markdown",
   "id": "63a76637",
   "metadata": {},
   "source": [
    "# Rappel des 2 premiers jours"
   ]
  },
  {
   "cell_type": "code",
   "execution_count": 4,
   "id": "7c79aaa5",
   "metadata": {},
   "outputs": [
    {
     "data": {
      "text/plain": [
       "[1e-07, 1e-06, 1e-05, 0.0001, 0.001, 0.01]"
      ]
     },
     "execution_count": 4,
     "metadata": {},
     "output_type": "execute_result"
    }
   ],
   "source": [
    "currents = [1E-7, 1E-6, 1E-5, 1E-4, 1E-3, 1E-2] \n",
    "currents"
   ]
  },
  {
   "cell_type": "code",
   "execution_count": 5,
   "id": "8441babf",
   "metadata": {},
   "outputs": [
    {
     "name": "stdout",
     "output_type": "stream",
     "text": [
      "6\n"
     ]
    }
   ],
   "source": [
    "voltages = [None for curr in currlist] \n",
    "print(len(voltages))"
   ]
  },
  {
   "cell_type": "code",
   "execution_count": 6,
   "id": "d1fd0cd0",
   "metadata": {},
   "outputs": [
    {
     "data": {
      "text/plain": [
       "[None, None, None, None, None, None]"
      ]
     },
     "execution_count": 6,
     "metadata": {},
     "output_type": "execute_result"
    }
   ],
   "source": [
    "voltages"
   ]
  },
  {
   "cell_type": "code",
   "execution_count": 15,
   "id": "41576b70",
   "metadata": {},
   "outputs": [
    {
     "name": "stdout",
     "output_type": "stream",
     "text": [
      "0 1e-07\n",
      "forwardv(1e-07) && backwardv(1e-07)\n",
      "forwardv(1e-07) && backwardv(1e-07)\n",
      "1 1e-06\n",
      "forwardv(1e-06) && backwardv(1e-06)\n",
      "forwardv(1e-06) && backwardv(1e-06)\n",
      "2 1e-05\n",
      "forwardv(1e-05) && backwardv(1e-05)\n",
      "forwardv(1e-05) && backwardv(1e-05)\n",
      "3 0.0001\n",
      "forwardv(0.0001) && backwardv(0.0001)\n",
      "forwardv(0.0001) && backwardv(0.0001)\n",
      "4 0.001\n",
      "forwardv(0.001) && backwardv(0.001)\n",
      "forwardv(0.001) && backwardv(0.001)\n",
      "5 0.01\n",
      "forwardv(0.01) && backwardv(0.01)\n",
      "forwardv(0.01) && backwardv(0.01)\n"
     ]
    }
   ],
   "source": [
    "for index, current in enumerate(currents): \n",
    "    print(index, current)\n",
    "    print(\"forwardv(\"+str(current)+\") && backwardv(\" + str(current) +\")\")\n",
    "    print(f\"forwardv({current}) && backwardv({current})\")"
   ]
  },
  {
   "cell_type": "code",
   "execution_count": 10,
   "id": "454a14f4",
   "metadata": {},
   "outputs": [],
   "source": [
    "enumerate?"
   ]
  },
  {
   "cell_type": "code",
   "execution_count": null,
   "id": "35bd847c",
   "metadata": {},
   "outputs": [],
   "source": [
    "import visa\n",
    "rm = visa.ResourceManager()\n",
    "address = \"TCPIP0::192.0.0.1::inst0::INSTR\" #Keithley 2450 SMU\n",
    "rm.list() # liste les instruments branchés sur l'ordinateur / réseau\n",
    "inst = rm.open_resource(address) # \n",
    "\n",
    "inst.query # on envoie une commande et on lit la réponse (avec un timeout)\n",
    "inst.write # on envoie une commande et on n'attend pas de réponse\n",
    "inst.read # on demande à lire une réponse "
   ]
  }
 ],
 "metadata": {
  "kernelspec": {
   "display_name": "Python 3 (ipykernel)",
   "language": "python",
   "name": "python3"
  },
  "language_info": {
   "codemirror_mode": {
    "name": "ipython",
    "version": 3
   },
   "file_extension": ".py",
   "mimetype": "text/x-python",
   "name": "python",
   "nbconvert_exporter": "python",
   "pygments_lexer": "ipython3",
   "version": "3.11.3"
  }
 },
 "nbformat": 4,
 "nbformat_minor": 5
}
