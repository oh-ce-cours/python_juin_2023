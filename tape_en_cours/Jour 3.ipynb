{
 "cells": [
  {
   "cell_type": "markdown",
   "id": "6ce39443",
   "metadata": {},
   "source": [
    "# Rappel des 2 premiers jours"
   ]
  },
  {
   "cell_type": "code",
   "execution_count": 4,
   "id": "15d28baa",
   "metadata": {},
   "outputs": [
    {
     "data": {
      "text/plain": [
       "[1e-07, 1e-06, 1e-05, 0.0001, 0.001, 0.01]"
      ]
     },
     "execution_count": 4,
     "metadata": {},
     "output_type": "execute_result"
    }
   ],
   "source": [
    "currents = [1E-7, 1E-6, 1E-5, 1E-4, 1E-3, 1E-2] \n",
    "currents"
   ]
  },
  {
   "cell_type": "code",
   "execution_count": 5,
   "id": "0d239882",
   "metadata": {},
   "outputs": [
    {
     "name": "stdout",
     "output_type": "stream",
     "text": [
      "6\n"
     ]
    }
   ],
   "source": [
    "voltages = [None for curr in currlist] \n",
    "print(len(voltages))"
   ]
  },
  {
   "cell_type": "code",
   "execution_count": 6,
   "id": "8c8de182",
   "metadata": {},
   "outputs": [
    {
     "data": {
      "text/plain": [
       "[None, None, None, None, None, None]"
      ]
     },
     "execution_count": 6,
     "metadata": {},
     "output_type": "execute_result"
    }
   ],
   "source": [
    "voltages"
   ]
  },
  {
   "cell_type": "code",
   "execution_count": 9,
   "id": "2705efa1",
   "metadata": {},
   "outputs": [
    {
     "name": "stdout",
     "output_type": "stream",
     "text": [
      "0 1e-07\n",
      "1 1e-06\n",
      "2 1e-05\n",
      "3 0.0001\n",
      "4 0.001\n",
      "5 0.01\n"
     ]
    }
   ],
   "source": [
    "for index, current in enumerate(currents): \n",
    "    print(index, current)"
   ]
  },
  {
   "cell_type": "code",
   "execution_count": 10,
   "id": "3f532297",
   "metadata": {},
   "outputs": [],
   "source": [
    "enumerate?"
   ]
  },
  {
   "cell_type": "code",
   "execution_count": null,
   "id": "37d5c58f",
   "metadata": {},
   "outputs": [],
   "source": []
  }
 ],
 "metadata": {
  "kernelspec": {
   "display_name": "Python 3 (ipykernel)",
   "language": "python",
   "name": "python3"
  },
  "language_info": {
   "codemirror_mode": {
    "name": "ipython",
    "version": 3
   },
   "file_extension": ".py",
   "mimetype": "text/x-python",
   "name": "python",
   "nbconvert_exporter": "python",
   "pygments_lexer": "ipython3",
   "version": "3.11.3"
  }
 },
 "nbformat": 4,
 "nbformat_minor": 5
}
