{
 "cells": [
  {
   "cell_type": "markdown",
   "id": "48da3331",
   "metadata": {},
   "source": [
    "# Rappel des 2 premiers jours"
   ]
  },
  {
   "cell_type": "code",
   "execution_count": 4,
   "id": "095eaa97",
   "metadata": {},
   "outputs": [
    {
     "data": {
      "text/plain": [
       "[1e-07, 1e-06, 1e-05, 0.0001, 0.001, 0.01]"
      ]
     },
     "execution_count": 4,
     "metadata": {},
     "output_type": "execute_result"
    }
   ],
   "source": [
    "currents = [1E-7, 1E-6, 1E-5, 1E-4, 1E-3, 1E-2] \n",
    "currents"
   ]
  },
  {
   "cell_type": "code",
   "execution_count": 18,
   "id": "2a502da5",
   "metadata": {},
   "outputs": [
    {
     "name": "stdout",
     "output_type": "stream",
     "text": [
      "6\n"
     ]
    }
   ],
   "source": [
    "voltages = [None for curr in currlist] \n",
    "print(len(voltages))"
   ]
  },
  {
   "cell_type": "code",
   "execution_count": 6,
   "id": "f51771a6",
   "metadata": {},
   "outputs": [
    {
     "data": {
      "text/plain": [
       "[None, None, None, None, None, None]"
      ]
     },
     "execution_count": 6,
     "metadata": {},
     "output_type": "execute_result"
    }
   ],
   "source": [
    "voltages"
   ]
  },
  {
   "cell_type": "code",
   "execution_count": 30,
   "id": "5906fc7b",
   "metadata": {},
   "outputs": [
    {
     "name": "stdout",
     "output_type": "stream",
     "text": [
      "['2e-07', None, None, None, None, None]\n",
      "[2e-07, None, None, None, None, None]\n",
      "---------------\n",
      "[2e-07, '2e-06', None, None, None, None]\n",
      "[2e-07, 2e-06, None, None, None, None]\n",
      "---------------\n",
      "[2e-07, 2e-06, '2e-05', None, None, None]\n",
      "[2e-07, 2e-06, 2e-05, None, None, None]\n",
      "---------------\n",
      "[2e-07, 2e-06, 2e-05, '0.0002', None, None]\n",
      "[2e-07, 2e-06, 2e-05, 0.0002, None, None]\n",
      "---------------\n",
      "[2e-07, 2e-06, 2e-05, 0.0002, '0.002', None]\n",
      "[2e-07, 2e-06, 2e-05, 0.0002, 0.002, None]\n",
      "---------------\n",
      "[2e-07, 2e-06, 2e-05, 0.0002, 0.002, '0.02']\n",
      "[2e-07, 2e-06, 2e-05, 0.0002, 0.002, 0.02]\n",
      "---------------\n"
     ]
    }
   ],
   "source": [
    "voltages = [None for curr in currlist] \n",
    "for index, current in enumerate(currents): \n",
    "    #print(index, current)\n",
    "    voltage = str(current * 2)\n",
    "    voltages[index] = voltage\n",
    "    print(voltages)\n",
    "    voltages[index] = float(voltages[index])\n",
    "    print(voltages)\n",
    "    print(\"---------------\")\n",
    "    \n",
    "    #print(\"forwardv(\"+str(current)+\") && backwardv(\" + str(current) +\")\")\n",
    "    #print(f\"forwardv({current}) && backwardv({current})\")"
   ]
  },
  {
   "cell_type": "code",
   "execution_count": null,
   "id": "23779659",
   "metadata": {},
   "outputs": [],
   "source": []
  },
  {
   "cell_type": "markdown",
   "id": "1833b5a6",
   "metadata": {},
   "source": [
    "``` python \n",
    "import visa\n",
    "rm = visa.ResourceManager()\n",
    "address = \"TCPIP0::192.0.0.1::inst0::INSTR\" #Keithley 2450 SMU\n",
    "rm.list() # liste les instruments branchés sur l'ordinateur / réseau\n",
    "inst = rm.open_resource(address) # on va se connecter à l'instrument\n",
    "\n",
    "#### une fois que l'on est connecté, on peut communiquer avec l'instrument \n",
    "inst.query(\"...\") # on envoie une commande et on lit la réponse (avec un timeout)\n",
    "inst.write(\"...\") # on envoie une commande et on n'attend pas de réponse\n",
    "inst.read() # on demande à lire une réponse \n",
    "```"
   ]
  },
  {
   "cell_type": "code",
   "execution_count": 42,
   "id": "eb599993",
   "metadata": {},
   "outputs": [
    {
     "name": "stdout",
     "output_type": "stream",
     "text": [
      "[2e-07]\n",
      "---------------\n",
      "[2e-07, 2e-06]\n",
      "---------------\n",
      "[2e-07, 2e-06, 2e-05]\n",
      "---------------\n",
      "[2e-07, 2e-06, 2e-05, 0.0002]\n",
      "---------------\n",
      "[2e-07, 2e-06, 2e-05, 0.0002, 0.002]\n",
      "---------------\n",
      "[2e-07, 2e-06, 2e-05, 0.0002, 0.002, 0.02]\n",
      "---------------\n"
     ]
    }
   ],
   "source": [
    "currents = [1E-7, 1E-6, 1E-5, 1E-4, 1E-3, 1E-2] \n",
    "voltages = []\n",
    "for current in currents: \n",
    "    voltage = str(current * 2)\n",
    "    voltages.append(float(voltage))\n",
    "    print(voltages)\n",
    "    print(\"---------------\")"
   ]
  },
  {
   "cell_type": "code",
   "execution_count": 40,
   "id": "87b6fff1",
   "metadata": {},
   "outputs": [
    {
     "ename": "IndexError",
     "evalue": "list assignment index out of range",
     "output_type": "error",
     "traceback": [
      "\u001b[0;31m---------------------------------------------------------------------------\u001b[0m",
      "\u001b[0;31mIndexError\u001b[0m                                Traceback (most recent call last)",
      "Cell \u001b[0;32mIn[40], line 3\u001b[0m\n\u001b[1;32m      1\u001b[0m voltages[\u001b[38;5;241m5\u001b[39m] \u001b[38;5;241m=\u001b[39m \u001b[38;5;241m12\u001b[39m\n\u001b[1;32m      2\u001b[0m voltages\n\u001b[0;32m----> 3\u001b[0m voltages[\u001b[38;5;241m8\u001b[39m] \u001b[38;5;241m=\u001b[39m \u001b[38;5;241m56\u001b[39m\n",
      "\u001b[0;31mIndexError\u001b[0m: list assignment index out of range"
     ]
    }
   ],
   "source": [
    "voltages[5] = 12\n",
    "voltages\n",
    "voltages[8] = 56"
   ]
  },
  {
   "cell_type": "markdown",
   "id": "641ef925",
   "metadata": {},
   "source": [
    "```python\n",
    "setup() # suite d'instruction (timeout, securite, ...)\n",
    "measure()\n",
    "    => for valeur in list_valeur\n",
    "    => while valeur /= cible \n",
    "    => acquisition / enregisrement dans un fichier ou une base de données\n",
    "liberation() # reset de l'appareil \n",
    "```"
   ]
  },
  {
   "cell_type": "code",
   "execution_count": 61,
   "id": "eb261b37",
   "metadata": {},
   "outputs": [
    {
     "data": {
      "image/png": "[encoded data removed]",
      "text/plain": [
       "<Figure size 640x480 with 1 Axes>"
      ]
     },
     "metadata": {},
     "output_type": "display_data"
    }
   ],
   "source": [
    "# https://docs.scipy.org/doc/scipy/reference/generated/scipy.integrate.solve_ivp.html#scipy.integrate.solve_ivp\n",
    "\n",
    "import matplotlib.pyplot as plt\n",
    "import numpy as np\n",
    "from scipy.integrate import solve_ivp\n",
    "\n",
    "def lotkavolterra(t, z, a, b, c, d):\n",
    "    x, y = z\n",
    "    return [a*x - b*x*y, -c*y + d*x*y]\n",
    "\n",
    "t = np.linspace(0, 15, 300)\n",
    "sol = solve_ivp(lotkavolterra, [0, 15], [10, 5], args=(1.5, 1, 3, 1),\n",
    "                dense_output=True)\n",
    "z = sol.sol(t)\n",
    "plt.plot(t, z.T)\n",
    "plt.xlabel('t')\n",
    "plt.legend(['x', 'y'], shadow=True)\n",
    "plt.title('Lotka-Volterra System')\n",
    "plt.show()"
   ]
  },
  {
   "cell_type": "markdown",
   "id": "bf394963",
   "metadata": {},
   "source": [
    "# POO"
   ]
  },
  {
   "cell_type": "code",
   "execution_count": 71,
   "id": "33262689",
   "metadata": {},
   "outputs": [],
   "source": [
    "class Humain:\n",
    "    pass"
   ]
  },
  {
   "cell_type": "code",
   "execution_count": 78,
   "id": "1791e0eb",
   "metadata": {},
   "outputs": [
    {
     "name": "stdout",
     "output_type": "stream",
     "text": [
      "<__main__.Humain object at 0x11fb027d0> <__main__.Humain object at 0x11f967990> <__main__.Humain object at 0x11f967c10>\n"
     ]
    }
   ],
   "source": [
    "h1 = Humain()\n",
    "h2 = Humain()\n",
    "h3 = Humain()\n",
    "print(h1, h2, h3)"
   ]
  },
  {
   "cell_type": "code",
   "execution_count": null,
   "id": "170def27",
   "metadata": {},
   "outputs": [],
   "source": []
  }
 ],
 "metadata": {
  "kernelspec": {
   "display_name": "Python 3 (ipykernel)",
   "language": "python",
   "name": "python3"
  },
  "language_info": {
   "codemirror_mode": {
    "name": "ipython",
    "version": 3
   },
   "file_extension": ".py",
   "mimetype": "text/x-python",
   "name": "python",
   "nbconvert_exporter": "python",
   "pygments_lexer": "ipython3",
   "version": "3.11.3"
  }
 },
 "nbformat": 4,
 "nbformat_minor": 5
}
