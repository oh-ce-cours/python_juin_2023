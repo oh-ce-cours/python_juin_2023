{
 "cells": [
  {
   "cell_type": "markdown",
   "id": "8460e7f6",
   "metadata": {},
   "source": [
    "# Rappel des 2 premiers jours"
   ]
  },
  {
   "cell_type": "code",
   "execution_count": 4,
   "id": "bdaad887",
   "metadata": {},
   "outputs": [
    {
     "data": {
      "text/plain": [
       "[1e-07, 1e-06, 1e-05, 0.0001, 0.001, 0.01]"
      ]
     },
     "execution_count": 4,
     "metadata": {},
     "output_type": "execute_result"
    }
   ],
   "source": [
    "currents = [1E-7, 1E-6, 1E-5, 1E-4, 1E-3, 1E-2] \n",
    "currents"
   ]
  },
  {
   "cell_type": "code",
   "execution_count": 18,
   "id": "38090e8b",
   "metadata": {},
   "outputs": [
    {
     "name": "stdout",
     "output_type": "stream",
     "text": [
      "6\n"
     ]
    }
   ],
   "source": [
    "voltages = [None for curr in currlist] \n",
    "print(len(voltages))"
   ]
  },
  {
   "cell_type": "code",
   "execution_count": 6,
   "id": "ca0b56be",
   "metadata": {},
   "outputs": [
    {
     "data": {
      "text/plain": [
       "[None, None, None, None, None, None]"
      ]
     },
     "execution_count": 6,
     "metadata": {},
     "output_type": "execute_result"
    }
   ],
   "source": [
    "voltages"
   ]
  },
  {
   "cell_type": "code",
   "execution_count": 30,
   "id": "e5757c8e",
   "metadata": {},
   "outputs": [
    {
     "name": "stdout",
     "output_type": "stream",
     "text": [
      "['2e-07', None, None, None, None, None]\n",
      "[2e-07, None, None, None, None, None]\n",
      "---------------\n",
      "[2e-07, '2e-06', None, None, None, None]\n",
      "[2e-07, 2e-06, None, None, None, None]\n",
      "---------------\n",
      "[2e-07, 2e-06, '2e-05', None, None, None]\n",
      "[2e-07, 2e-06, 2e-05, None, None, None]\n",
      "---------------\n",
      "[2e-07, 2e-06, 2e-05, '0.0002', None, None]\n",
      "[2e-07, 2e-06, 2e-05, 0.0002, None, None]\n",
      "---------------\n",
      "[2e-07, 2e-06, 2e-05, 0.0002, '0.002', None]\n",
      "[2e-07, 2e-06, 2e-05, 0.0002, 0.002, None]\n",
      "---------------\n",
      "[2e-07, 2e-06, 2e-05, 0.0002, 0.002, '0.02']\n",
      "[2e-07, 2e-06, 2e-05, 0.0002, 0.002, 0.02]\n",
      "---------------\n"
     ]
    }
   ],
   "source": [
    "voltages = [None for curr in currlist] \n",
    "for index, current in enumerate(currents): \n",
    "    #print(index, current)\n",
    "    voltage = str(current * 2)\n",
    "    voltages[index] = voltage\n",
    "    print(voltages)\n",
    "    voltages[index] = float(voltages[index])\n",
    "    print(voltages)\n",
    "    print(\"---------------\")\n",
    "    \n",
    "    #print(\"forwardv(\"+str(current)+\") && backwardv(\" + str(current) +\")\")\n",
    "    #print(f\"forwardv({current}) && backwardv({current})\")"
   ]
  },
  {
   "cell_type": "code",
   "execution_count": null,
   "id": "9e09b155",
   "metadata": {},
   "outputs": [],
   "source": []
  },
  {
   "cell_type": "markdown",
   "id": "61bc84b9",
   "metadata": {},
   "source": [
    "``` python \n",
    "import visa\n",
    "rm = visa.ResourceManager()\n",
    "address = \"TCPIP0::192.0.0.1::inst0::INSTR\" #Keithley 2450 SMU\n",
    "rm.list() # liste les instruments branchés sur l'ordinateur / réseau\n",
    "inst = rm.open_resource(address) # on va se connecter à l'instrument\n",
    "\n",
    "#### une fois que l'on est connecté, on peut communiquer avec l'instrument \n",
    "inst.query(\"...\") # on envoie une commande et on lit la réponse (avec un timeout)\n",
    "inst.write(\"...\") # on envoie une commande et on n'attend pas de réponse\n",
    "inst.read() # on demande à lire une réponse \n",
    "```"
   ]
  },
  {
   "cell_type": "code",
   "execution_count": null,
   "id": "89722d81",
   "metadata": {},
   "outputs": [],
   "source": []
  }
 ],
 "metadata": {
  "kernelspec": {
   "display_name": "Python 3 (ipykernel)",
   "language": "python",
   "name": "python3"
  },
  "language_info": {
   "codemirror_mode": {
    "name": "ipython",
    "version": 3
   },
   "file_extension": ".py",
   "mimetype": "text/x-python",
   "name": "python",
   "nbconvert_exporter": "python",
   "pygments_lexer": "ipython3",
   "version": "3.11.3"
  }
 },
 "nbformat": 4,
 "nbformat_minor": 5
}
