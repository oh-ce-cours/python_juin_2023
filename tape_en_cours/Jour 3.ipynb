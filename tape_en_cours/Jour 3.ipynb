{
 "cells": [
  {
   "cell_type": "markdown",
   "id": "fa73504b",
   "metadata": {},
   "source": [
    "# Rappel des 2 premiers jours"
   ]
  },
  {
   "cell_type": "code",
   "execution_count": 4,
   "id": "170a09ea",
   "metadata": {},
   "outputs": [
    {
     "data": {
      "text/plain": [
       "[1e-07, 1e-06, 1e-05, 0.0001, 0.001, 0.01]"
      ]
     },
     "execution_count": 4,
     "metadata": {},
     "output_type": "execute_result"
    }
   ],
   "source": [
    "currents = [1E-7, 1E-6, 1E-5, 1E-4, 1E-3, 1E-2] \n",
    "currents"
   ]
  },
  {
   "cell_type": "code",
   "execution_count": 5,
   "id": "820a012c",
   "metadata": {},
   "outputs": [
    {
     "name": "stdout",
     "output_type": "stream",
     "text": [
      "6\n"
     ]
    }
   ],
   "source": [
    "voltages = [None for curr in currlist] \n",
    "print(len(voltages))"
   ]
  },
  {
   "cell_type": "code",
   "execution_count": 6,
   "id": "fb837e20",
   "metadata": {},
   "outputs": [
    {
     "data": {
      "text/plain": [
       "[None, None, None, None, None, None]"
      ]
     },
     "execution_count": 6,
     "metadata": {},
     "output_type": "execute_result"
    }
   ],
   "source": [
    "voltages"
   ]
  },
  {
   "cell_type": "code",
   "execution_count": 15,
   "id": "2e0ceb1a",
   "metadata": {},
   "outputs": [
    {
     "name": "stdout",
     "output_type": "stream",
     "text": [
      "0 1e-07\n",
      "forwardv(1e-07) && backwardv(1e-07)\n",
      "forwardv(1e-07) && backwardv(1e-07)\n",
      "1 1e-06\n",
      "forwardv(1e-06) && backwardv(1e-06)\n",
      "forwardv(1e-06) && backwardv(1e-06)\n",
      "2 1e-05\n",
      "forwardv(1e-05) && backwardv(1e-05)\n",
      "forwardv(1e-05) && backwardv(1e-05)\n",
      "3 0.0001\n",
      "forwardv(0.0001) && backwardv(0.0001)\n",
      "forwardv(0.0001) && backwardv(0.0001)\n",
      "4 0.001\n",
      "forwardv(0.001) && backwardv(0.001)\n",
      "forwardv(0.001) && backwardv(0.001)\n",
      "5 0.01\n",
      "forwardv(0.01) && backwardv(0.01)\n",
      "forwardv(0.01) && backwardv(0.01)\n"
     ]
    }
   ],
   "source": [
    "for index, current in enumerate(currents): \n",
    "    print(index, current)\n",
    "    print(\"forwardv(\"+str(current)+\") && backwardv(\" + str(current) +\")\")\n",
    "    print(f\"forwardv({current}) && backwardv({current})\")"
   ]
  },
  {
   "cell_type": "code",
   "execution_count": 10,
   "id": "11630a94",
   "metadata": {},
   "outputs": [],
   "source": [
    "enumerate?"
   ]
  },
  {
   "cell_type": "code",
   "execution_count": 16,
   "id": "6feb1374",
   "metadata": {},
   "outputs": [
    {
     "ename": "ModuleNotFoundError",
     "evalue": "No module named 'visa'",
     "output_type": "error",
     "traceback": [
      "\u001b[0;31m---------------------------------------------------------------------------\u001b[0m",
      "\u001b[0;31mModuleNotFoundError\u001b[0m                       Traceback (most recent call last)",
      "Cell \u001b[0;32mIn[16], line 1\u001b[0m\n\u001b[0;32m----> 1\u001b[0m \u001b[38;5;28;01mimport\u001b[39;00m \u001b[38;5;21;01mvisa\u001b[39;00m\n\u001b[1;32m      2\u001b[0m rm \u001b[38;5;241m=\u001b[39m visa\u001b[38;5;241m.\u001b[39mResourceManager()\n\u001b[1;32m      3\u001b[0m address \u001b[38;5;241m=\u001b[39m \u001b[38;5;124m\"\u001b[39m\u001b[38;5;124mTCPIP0::192.0.0.1::inst0::INSTR\u001b[39m\u001b[38;5;124m\"\u001b[39m \u001b[38;5;66;03m#Keithley 2450 SMU\u001b[39;00m\n",
      "\u001b[0;31mModuleNotFoundError\u001b[0m: No module named 'visa'"
     ]
    }
   ],
   "source": [
    "import visa\n",
    "rm = visa.ResourceManager()\n",
    "address = \"TCPIP0::192.0.0.1::inst0::INSTR\" #Keithley 2450 SMU\n",
    "rm.list() # liste les instruments branchés sur l'ordinateur / réseau\n",
    "inst = rm.open_resource(address) # on va se connecter à l'instrument\n",
    "\n",
    "#### une fois que l'on est connecté, on peut communiquer avec l'instrument \n",
    "inst.query(\"...\") # on envoie une commande et on lit la réponse (avec un timeout)\n",
    "inst.write(\"...\") # on envoie une commande et on n'attend pas de réponse\n",
    "inst.read() # on demande à lire une réponse "
   ]
  },
  {
   "cell_type": "code",
   "execution_count": null,
   "id": "da0c7998",
   "metadata": {},
   "outputs": [],
   "source": []
  }
 ],
 "metadata": {
  "kernelspec": {
   "display_name": "Python 3 (ipykernel)",
   "language": "python",
   "name": "python3"
  },
  "language_info": {
   "codemirror_mode": {
    "name": "ipython",
    "version": 3
   },
   "file_extension": ".py",
   "mimetype": "text/x-python",
   "name": "python",
   "nbconvert_exporter": "python",
   "pygments_lexer": "ipython3",
   "version": "3.11.3"
  }
 },
 "nbformat": 4,
 "nbformat_minor": 5
}
