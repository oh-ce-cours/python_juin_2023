{
 "cells": [
  {
   "cell_type": "markdown",
   "id": "36d1bfac",
   "metadata": {},
   "source": [
    "# Rappel du jour 1\n",
    "\n",
    "## Matin \n",
    "\n",
    "* installation \n",
    "  * télécharger un interpréteur \n",
    "  * éditeur de texte (par exemple spyder)\n",
    "* anaconda \n",
    "    * permet de gérer tout ça d'un coup (interpréteur + éditeur)\n",
    "    * gestion de projets / environnements \n",
    "* variables et leurs types\n",
    "\n",
    "\n",
    "## Après-midi\n",
    "\n",
    "* les opérateurs mathématiques\n",
    "    * 2 ^ 5 \n",
    "* le type booléen \n",
    "* les conteneurs => en python pur on est sans limites sur ce que l'on peut mettre dedans (taille, type, variabilité entre les éléments)\n",
    "    * lists => \n",
    "    * tuples => on ne peut pas les modifier une fois créés \n",
    "* numpy et son utilisation "
   ]
  },
  {
   "cell_type": "code",
   "execution_count": 8,
   "id": "a62a68eb",
   "metadata": {},
   "outputs": [
    {
     "data": {
      "text/plain": [
       "('riri', 'loulou')"
      ]
     },
     "execution_count": 8,
     "metadata": {},
     "output_type": "execute_result"
    }
   ],
   "source": [
    "a = [\"riri\", \"fifi\", \"loulou\"]\n",
    "(a[0], a[2])"
   ]
  },
  {
   "cell_type": "code",
   "execution_count": 7,
   "id": "b12a138c",
   "metadata": {},
   "outputs": [
    {
     "ename": "IndexError",
     "evalue": "list index out of range",
     "output_type": "error",
     "traceback": [
      "\u001b[0;31m---------------------------------------------------------------------------\u001b[0m",
      "\u001b[0;31mIndexError\u001b[0m                                Traceback (most recent call last)",
      "Cell \u001b[0;32mIn[7], line 1\u001b[0m\n\u001b[0;32m----> 1\u001b[0m \u001b[43ma\u001b[49m\u001b[43m[\u001b[49m\u001b[38;5;241;43m234\u001b[39;49m\u001b[43m]\u001b[49m\n",
      "\u001b[0;31mIndexError\u001b[0m: list index out of range"
     ]
    }
   ],
   "source": [
    "a[234]"
   ]
  },
  {
   "cell_type": "code",
   "execution_count": 10,
   "id": "15631a43",
   "metadata": {},
   "outputs": [
    {
     "name": "stdout",
     "output_type": "stream",
     "text": [
      "{'un mot': ['une', 'liste', 'de', 'définitions'], 'un autre mot': 'une autre def'}\n"
     ]
    }
   ],
   "source": [
    "dico = {\n",
    "    \"un mot\": [\"une\", \"liste\", \"de\", \"définitions\"], \n",
    "    \"un autre mot\": \"une autre def\"\n",
    "}\n",
    "\n",
    "print(dico)"
   ]
  },
  {
   "cell_type": "code",
   "execution_count": 12,
   "id": "00645cfc",
   "metadata": {},
   "outputs": [],
   "source": [
    "champ_magnetique = {\n",
    "    (0, 0): 10,\n",
    "    (0, 1): 5\n",
    "}"
   ]
  },
  {
   "cell_type": "code",
   "execution_count": 13,
   "id": "85901856",
   "metadata": {},
   "outputs": [
    {
     "data": {
      "text/plain": [
       "10"
      ]
     },
     "execution_count": 13,
     "metadata": {},
     "output_type": "execute_result"
    }
   ],
   "source": [
    "champ_magnetique[(0, 0)]"
   ]
  },
  {
   "cell_type": "code",
   "execution_count": 14,
   "id": "73015918",
   "metadata": {},
   "outputs": [
    {
     "data": {
      "text/plain": [
       "{'a', 'b', 'c', 'd', 'r'}"
      ]
     },
     "execution_count": 14,
     "metadata": {},
     "output_type": "execute_result"
    }
   ],
   "source": [
    "set(\"abracadabra\")"
   ]
  },
  {
   "cell_type": "code",
   "execution_count": 19,
   "id": "a6d7c5af",
   "metadata": {},
   "outputs": [
    {
     "name": "stdout",
     "output_type": "stream",
     "text": [
      "['numpy', 'scipy']\n",
      "{'numpy', 'scipy'}\n"
     ]
    }
   ],
   "source": [
    "paquets_pips = [\"pyvisa\", \"numpy\", \"scipy\"]\n",
    "paquets_condas = [\"numpy\", \"scipy\", \"conda\"]\n",
    "\n",
    "communs = []\n",
    "for paquet_pip in paquets_pips:\n",
    "    if paquet_pip in paquets_condas:\n",
    "        communs.append(paquet_pip)\n",
    "print(communs)\n",
    "\n",
    "communs = set(paquets_pips).intersection(set(paquets_condas))\n",
    "print(communs)"
   ]
  },
  {
   "cell_type": "code",
   "execution_count": 26,
   "id": "9fb99ade",
   "metadata": {},
   "outputs": [
    {
     "name": "stdout",
     "output_type": "stream",
     "text": [
      "[[0 1]\n",
      " [0 1]]\n",
      "====\n",
      "[[1 2]\n",
      " [3 4]]\n",
      "====\n",
      "[[0 2]\n",
      " [0 4]]\n",
      "====\n",
      "[[3 4]\n",
      " [3 4]]\n"
     ]
    }
   ],
   "source": [
    "import numpy\n",
    "\n",
    "a = numpy.array([[0, 1], [0, 1]])\n",
    "b = numpy.array([[1, 2], [3, 4]])\n",
    "\n",
    "print(a)\n",
    "print(\"====\")\n",
    "print(b)\n",
    "print(\"====\")\n",
    "print(a * b) # multiplication terme à terme\n",
    "print(\"====\")\n",
    "print(a @ b) # la vrai multiplication matricielle comme en algèbre linaire"
   ]
  },
  {
   "cell_type": "code",
   "execution_count": 29,
   "id": "8dd81fab",
   "metadata": {},
   "outputs": [
    {
     "data": {
      "text/plain": [
       "array([0, 1, 2, 0, 1, 2, 0, 1, 2, 0])"
      ]
     },
     "execution_count": 29,
     "metadata": {},
     "output_type": "execute_result"
    }
   ],
   "source": [
    "numpy.arange(10) % 3"
   ]
  },
  {
   "cell_type": "code",
   "execution_count": 32,
   "id": "db239143",
   "metadata": {},
   "outputs": [
    {
     "data": {
      "text/plain": [
       "[0, 1, 2, 0, 1, 2, 0, 1, 2, 0, 1, 2]"
      ]
     },
     "execution_count": 32,
     "metadata": {},
     "output_type": "execute_result"
    }
   ],
   "source": [
    "[0, 1, 2] * 4"
   ]
  },
  {
   "cell_type": "code",
   "execution_count": 37,
   "id": "5e04151e",
   "metadata": {},
   "outputs": [
    {
     "name": "stdout",
     "output_type": "stream",
     "text": [
      "[1 2 3]\n",
      "[[4]\n",
      " [5]\n",
      " [6]]\n"
     ]
    }
   ],
   "source": [
    "a = numpy.array([1, 2, 3])\n",
    "b = numpy.array([[4], [5], [6]])\n",
    "\n",
    "print(a) \n",
    "print(b)"
   ]
  },
  {
   "cell_type": "code",
   "execution_count": 38,
   "id": "7abc9e2f",
   "metadata": {},
   "outputs": [
    {
     "data": {
      "text/plain": [
       "array([[5, 6, 7],\n",
       "       [6, 7, 8],\n",
       "       [7, 8, 9]])"
      ]
     },
     "execution_count": 38,
     "metadata": {},
     "output_type": "execute_result"
    }
   ],
   "source": [
    "a + b"
   ]
  },
  {
   "cell_type": "code",
   "execution_count": 39,
   "id": "1605440b",
   "metadata": {},
   "outputs": [
    {
     "ename": "ValueError",
     "evalue": "operands could not be broadcast together with shapes (3,) (2,) ",
     "output_type": "error",
     "traceback": [
      "\u001b[0;31m---------------------------------------------------------------------------\u001b[0m",
      "\u001b[0;31mValueError\u001b[0m                                Traceback (most recent call last)",
      "Cell \u001b[0;32mIn[39], line 3\u001b[0m\n\u001b[1;32m      1\u001b[0m a \u001b[38;5;241m=\u001b[39m numpy\u001b[38;5;241m.\u001b[39marray([\u001b[38;5;241m1\u001b[39m, \u001b[38;5;241m2\u001b[39m, \u001b[38;5;241m3\u001b[39m])\n\u001b[1;32m      2\u001b[0m b \u001b[38;5;241m=\u001b[39m numpy\u001b[38;5;241m.\u001b[39marray([\u001b[38;5;241m1\u001b[39m, \u001b[38;5;241m2\u001b[39m])\n\u001b[0;32m----> 3\u001b[0m \u001b[38;5;28mprint\u001b[39m(\u001b[43ma\u001b[49m\u001b[43m \u001b[49m\u001b[38;5;241;43m+\u001b[39;49m\u001b[43m \u001b[49m\u001b[43mb\u001b[49m)\n",
      "\u001b[0;31mValueError\u001b[0m: operands could not be broadcast together with shapes (3,) (2,) "
     ]
    }
   ],
   "source": [
    "a = numpy.array([1, 2, 3])\n",
    "b = numpy.array([1, 2])\n",
    "print(a + b)"
   ]
  },
  {
   "cell_type": "markdown",
   "id": "c10042f8",
   "metadata": {},
   "source": [
    "# Fizzbuzz"
   ]
  },
  {
   "cell_type": "code",
   "execution_count": 48,
   "id": "9aae9894",
   "metadata": {},
   "outputs": [
    {
     "name": "stdout",
     "output_type": "stream",
     "text": [
      "1\n",
      "2\n",
      "fizz\n",
      "4\n",
      "buzz\n",
      "fizz\n",
      "7\n",
      "8\n",
      "fizz\n",
      "buzz\n",
      "11\n",
      "fizz\n",
      "13\n",
      "14\n",
      "fizzbuzz\n",
      "16\n",
      "17\n",
      "fizz\n",
      "19\n",
      "buzz\n",
      "fizz\n",
      "22\n",
      "23\n",
      "fizz\n",
      "buzz\n",
      "26\n",
      "fizz\n",
      "28\n",
      "29\n",
      "fizzbuzz\n",
      "31\n",
      "32\n",
      "fizz\n",
      "34\n",
      "buzz\n",
      "fizz\n",
      "37\n",
      "38\n",
      "fizz\n",
      "buzz\n",
      "41\n",
      "fizz\n",
      "43\n",
      "44\n",
      "fizzbuzz\n",
      "46\n",
      "47\n",
      "fizz\n",
      "49\n",
      "buzz\n",
      "fizz\n",
      "52\n",
      "53\n",
      "fizz\n",
      "buzz\n",
      "56\n",
      "fizz\n",
      "58\n",
      "59\n",
      "fizzbuzz\n",
      "61\n",
      "62\n",
      "fizz\n",
      "64\n",
      "buzz\n",
      "fizz\n",
      "67\n",
      "68\n",
      "fizz\n",
      "buzz\n",
      "71\n",
      "fizz\n",
      "73\n",
      "74\n",
      "fizzbuzz\n",
      "76\n",
      "77\n",
      "fizz\n",
      "79\n",
      "buzz\n",
      "fizz\n",
      "82\n",
      "83\n",
      "fizz\n",
      "buzz\n",
      "86\n",
      "fizz\n",
      "88\n",
      "89\n",
      "fizzbuzz\n",
      "91\n",
      "92\n",
      "fizz\n",
      "94\n",
      "buzz\n",
      "fizz\n",
      "97\n",
      "98\n",
      "fizz\n",
      "buzz\n"
     ]
    }
   ],
   "source": [
    "\"\"\"\n",
    "for nombre in range(1, 101):\n",
    "    if nombre % 3 == 0 and nombre % 5 == 0:\n",
    "        print(\"fizzbuzz\")\n",
    "    elif nombre % 5 == 0:\n",
    "        print(\"fizz\")\n",
    "    elif nombre % 3 == 0:\n",
    "        print(\"buzz\")\n",
    "    else:\n",
    "        print(nombre)\n",
    "\"\"\"        \n",
    "   \n",
    "for nombre in range(1, 101):\n",
    "    res = \"\"\n",
    "    if nombre % 3 == 0:\n",
    "        res = res + \"fizz\"\n",
    "    if nombre % 5 == 0:\n",
    "        res = res + \"buzz\"\n",
    "    if not res:\n",
    "        res = str(nombre)\n",
    "    print(res)"
   ]
  },
  {
   "cell_type": "code",
   "execution_count": 46,
   "id": "701a7974",
   "metadata": {},
   "outputs": [],
   "source": [
    "a = 2\n",
    "a = False\n",
    "a = []\n",
    "a = \"\""
   ]
  },
  {
   "cell_type": "code",
   "execution_count": 47,
   "id": "a0fdd414",
   "metadata": {},
   "outputs": [
    {
     "name": "stdout",
     "output_type": "stream",
     "text": [
      " <class 'str'>\n"
     ]
    }
   ],
   "source": [
    "print(a, type(a))"
   ]
  },
  {
   "cell_type": "code",
   "execution_count": 64,
   "id": "69e6c0fc",
   "metadata": {},
   "outputs": [
    {
     "data": {
      "text/plain": [
       "11"
      ]
     },
     "execution_count": 64,
     "metadata": {},
     "output_type": "execute_result"
    }
   ],
   "source": [
    "def f(x:float):\n",
    "    return 3*x +2 \n",
    "\n",
    "f(3)"
   ]
  },
  {
   "cell_type": "code",
   "execution_count": 68,
   "id": "77d3ce57",
   "metadata": {},
   "outputs": [],
   "source": [
    "res = []\n",
    "for nombre in range(1_000_000):\n",
    "    x = nombre / 1000\n",
    "    res.append(f(x))"
   ]
  },
  {
   "cell_type": "code",
   "execution_count": 69,
   "id": "ad0830b8",
   "metadata": {},
   "outputs": [],
   "source": [
    "import numpy as np \n",
    "\n",
    "xs = np.arange(0, 1000, 0.01)\n",
    "ys = f(xs)"
   ]
  },
  {
   "cell_type": "code",
   "execution_count": 70,
   "id": "ac70f8c2",
   "metadata": {},
   "outputs": [
    {
     "data": {
      "text/plain": [
       "(array([0.0000e+00, 1.0000e-02, 2.0000e-02, ..., 9.9997e+02, 9.9998e+02,\n",
       "        9.9999e+02]),\n",
       " array([2.00000e+00, 2.03000e+00, 2.06000e+00, ..., 3.00191e+03,\n",
       "        3.00194e+03, 3.00197e+03]))"
      ]
     },
     "execution_count": 70,
     "metadata": {},
     "output_type": "execute_result"
    }
   ],
   "source": [
    "xs, ys"
   ]
  },
  {
   "cell_type": "code",
   "execution_count": 72,
   "id": "c4911e9d",
   "metadata": {},
   "outputs": [],
   "source": [
    "np.power?"
   ]
  },
  {
   "cell_type": "code",
   "execution_count": 73,
   "id": "d36c38a4",
   "metadata": {},
   "outputs": [
    {
     "data": {
      "text/plain": [
       "array([ 2,  4,  8, 16])"
      ]
     },
     "execution_count": 73,
     "metadata": {},
     "output_type": "execute_result"
    }
   ],
   "source": [
    "np.power(2, np.array([1, 2, 3, 4]))"
   ]
  },
  {
   "cell_type": "code",
   "execution_count": 83,
   "id": "4e350a32",
   "metadata": {},
   "outputs": [],
   "source": [
    "def warning():\n",
    "    pass "
   ]
  },
  {
   "cell_type": "code",
   "execution_count": 84,
   "id": "352881d0",
   "metadata": {},
   "outputs": [],
   "source": [
    "warning()"
   ]
  },
  {
   "cell_type": "code",
   "execution_count": 82,
   "id": "f745d06c",
   "metadata": {},
   "outputs": [
    {
     "name": "stdout",
     "output_type": "stream",
     "text": [
      "\n"
     ]
    }
   ],
   "source": [
    "WARNING = \"\"#C'est cassé\"\n",
    "print(WARNING)"
   ]
  },
  {
   "cell_type": "code",
   "execution_count": 92,
   "id": "2eb80e21",
   "metadata": {},
   "outputs": [
    {
     "name": "stdout",
     "output_type": "stream",
     "text": [
      "y vaut (1999.998, 3999.996)\n"
     ]
    }
   ],
   "source": [
    "def f(x):\n",
    "    res = 2*x\n",
    "    return res, res * 2\n",
    "    \n",
    "y = f(x)\n",
    "print(\"y vaut\", y)"
   ]
  },
  {
   "cell_type": "code",
   "execution_count": 91,
   "id": "88b7635a",
   "metadata": {},
   "outputs": [
    {
     "data": {
      "text/plain": [
       "list"
      ]
     },
     "execution_count": 91,
     "metadata": {},
     "output_type": "execute_result"
    }
   ],
   "source": [
    "type(y)"
   ]
  },
  {
   "cell_type": "code",
   "execution_count": 97,
   "id": "685534ee",
   "metadata": {},
   "outputs": [
    {
     "name": "stdout",
     "output_type": "stream",
     "text": [
      "0 0 0\n"
     ]
    }
   ],
   "source": [
    "def f(x=0, y=0, z=0):\n",
    "    print(x, y, z)\n",
    "    \n",
    "f()"
   ]
  },
  {
   "cell_type": "code",
   "execution_count": 98,
   "id": "3bc07b23",
   "metadata": {},
   "outputs": [
    {
     "name": "stdout",
     "output_type": "stream",
     "text": [
      "1 2 3 tooto\n"
     ]
    }
   ],
   "source": [
    "print(1, 2, 3, \"tooto\")"
   ]
  },
  {
   "cell_type": "code",
   "execution_count": 103,
   "id": "acc3008a",
   "metadata": {},
   "outputs": [
    {
     "name": "stdout",
     "output_type": "stream",
     "text": [
      "2 ()\n"
     ]
    }
   ],
   "source": [
    "def f(a, *args):\n",
    "    print(a, args)\n",
    "    \n",
    "f(2)"
   ]
  },
  {
   "cell_type": "code",
   "execution_count": 110,
   "id": "6427fb93",
   "metadata": {},
   "outputs": [
    {
     "name": "stdout",
     "output_type": "stream",
     "text": [
      "2\n"
     ]
    }
   ],
   "source": [
    "var = 1\n",
    "\n",
    "def modify_var():\n",
    "    var2 = var + 1\n",
    "    print(var2)\n",
    "    \n",
    "modify_var()"
   ]
  },
  {
   "cell_type": "code",
   "execution_count": 114,
   "id": "fae3b35c",
   "metadata": {},
   "outputs": [
    {
     "name": "stdout",
     "output_type": "stream",
     "text": [
      "8\n"
     ]
    }
   ],
   "source": [
    "x, y, z = 1, 2, 3 \n",
    "\n",
    "def addition(x, y, z):\n",
    "    x = 3\n",
    "    return x + y + z\n",
    "\n",
    "print(addition(x, y, z))"
   ]
  },
  {
   "cell_type": "markdown",
   "id": "3399741f",
   "metadata": {},
   "source": [
    "# Data science"
   ]
  },
  {
   "cell_type": "code",
   "execution_count": 115,
   "id": "5b552c4c",
   "metadata": {},
   "outputs": [],
   "source": [
    "import pandas as pd "
   ]
  },
  {
   "cell_type": "code",
   "execution_count": 164,
   "id": "87258d26",
   "metadata": {},
   "outputs": [],
   "source": [
    "fname = \"./data_science/TX_comb_3p63GHZ_deuxdents_shift2p3GHz_AWG_deuxfiltresIFDMS.CSV\"\n",
    "\n",
    "df = pd.read_csv(\n",
    "    fname,\n",
    "    names = [\"freq\", \"dB\"],\n",
    "    skiprows=31, \n",
    "    sep=\";\",\n",
    "    index_col=False\n",
    ")"
   ]
  },
  {
   "cell_type": "code",
   "execution_count": 165,
   "id": "7f4cc49d",
   "metadata": {},
   "outputs": [],
   "source": [
    "#df = df.rolling(100).mean()"
   ]
  },
  {
   "cell_type": "code",
   "execution_count": 166,
   "id": "a60dc696",
   "metadata": {},
   "outputs": [],
   "source": [
    "import matplotlib.pyplot as plt"
   ]
  },
  {
   "cell_type": "code",
   "execution_count": 171,
   "id": "9651f77d",
   "metadata": {},
   "outputs": [
    {
     "data": {
      "text/plain": [
       "[<matplotlib.lines.Line2D at 0x7fb70a449000>]"
      ]
     },
     "execution_count": 171,
     "metadata": {},
     "output_type": "execute_result"
    },
    {
     "data": {
      "image/png": "[encoded data removed]",
      "text/plain": [
       "<Figure size 640x480 with 1 Axes>"
      ]
     },
     "metadata": {},
     "output_type": "display_data"
    }
   ],
   "source": [
    "plt.plot(df.freq, np.power(10, df.dB / 10)) s"
   ]
  },
  {
   "cell_type": "code",
   "execution_count": 168,
   "id": "3523915c",
   "metadata": {},
   "outputs": [
    {
     "data": {
      "text/plain": [
       "0      -0.983951\n",
       "1      -0.858632\n",
       "2      -0.623955\n",
       "3      -0.309809\n",
       "4       0.043795\n",
       "          ...   \n",
       "996    -0.827523\n",
       "997    -0.971974\n",
       "998    -0.992629\n",
       "999    -0.886856\n",
       "1000   -0.668133\n",
       "Name: freq, Length: 1001, dtype: float64"
      ]
     },
     "execution_count": 168,
     "metadata": {},
     "output_type": "execute_result"
    }
   ],
   "source": [
    "np.cos(df.freq)"
   ]
  },
  {
   "cell_type": "code",
   "execution_count": null,
   "id": "651aba89",
   "metadata": {},
   "outputs": [],
   "source": []
  },
  {
   "cell_type": "code",
   "execution_count": null,
   "id": "07b29161",
   "metadata": {},
   "outputs": [],
   "source": []
  }
 ],
 "metadata": {
  "kernelspec": {
   "display_name": "Python 3 (ipykernel)",
   "language": "python",
   "name": "python3"
  },
  "language_info": {
   "codemirror_mode": {
    "name": "ipython",
    "version": 3
   },
   "file_extension": ".py",
   "mimetype": "text/x-python",
   "name": "python",
   "nbconvert_exporter": "python",
   "pygments_lexer": "ipython3",
   "version": "3.10.9"
  }
 },
 "nbformat": 4,
 "nbformat_minor": 5
}
